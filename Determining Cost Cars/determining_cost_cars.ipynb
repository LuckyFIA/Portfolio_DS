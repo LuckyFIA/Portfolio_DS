{
 "cells": [
  {
   "cell_type": "markdown",
   "metadata": {},
   "source": [
    "# Определение стоимости автомобилей"
   ]
  },
  {
   "cell_type": "markdown",
   "metadata": {},
   "source": [
    "В нашем распоряжении исторические данные сервиса по продаже автомобилей с пробегом: технические характеристики, комплектации и цены автомобилей.  \n",
    "Сервис разрабатывает приложение для привлечения новых клиентов. В нём можно быстро узнать рыночную стоимость своего автомобиля.  \n",
    "\n",
    "Наша задача построить модель, для определения стоимости автомобиля, учитывая следующие критерии:\n",
    "- качество предсказания;\n",
    "- скорость предсказания;\n",
    "- время обучения."
   ]
  },
  {
   "cell_type": "code",
   "execution_count": 1,
   "metadata": {},
   "outputs": [
    {
     "name": "stdout",
     "output_type": "stream",
     "text": [
      "Requirement already satisfied: lightgbm in e:\\anaconda3\\envs\\ds_practicum\\lib\\site-packages (3.3.5)\n",
      "Requirement already satisfied: scikit-learn!=0.22.0 in e:\\anaconda3\\envs\\ds_practicum\\lib\\site-packages (from lightgbm) (0.24.1)\n",
      "Requirement already satisfied: scipy in e:\\anaconda3\\envs\\ds_practicum\\lib\\site-packages (from lightgbm) (1.8.0)\n",
      "Requirement already satisfied: numpy in e:\\anaconda3\\envs\\ds_practicum\\lib\\site-packages (from lightgbm) (1.20.1)\n",
      "Requirement already satisfied: wheel in e:\\anaconda3\\envs\\ds_practicum\\lib\\site-packages (from lightgbm) (0.38.4)\n",
      "Requirement already satisfied: joblib>=0.11 in e:\\anaconda3\\envs\\ds_practicum\\lib\\site-packages (from scikit-learn!=0.22.0->lightgbm) (1.2.0)\n",
      "Requirement already satisfied: threadpoolctl>=2.0.0 in e:\\anaconda3\\envs\\ds_practicum\\lib\\site-packages (from scikit-learn!=0.22.0->lightgbm) (3.1.0)\n"
     ]
    }
   ],
   "source": [
    "# устанавливаем библиотеки\n",
    "!pip install lightgbm"
   ]
  },
  {
   "cell_type": "code",
   "execution_count": 2,
   "metadata": {},
   "outputs": [],
   "source": [
    "# импортируем библиотеки\n",
    "import os\n",
    "import time\n",
    "import numpy as np\n",
    "import pandas as pd\n",
    "import seaborn as sns\n",
    "import matplotlib.pyplot as plt\n",
    "from sklearn.model_selection import train_test_split, GridSearchCV\n",
    "from sklearn.preprocessing import OrdinalEncoder\n",
    "from sklearn.ensemble import RandomForestRegressor\n",
    "from lightgbm import LGBMRegressor\n",
    "from catboost import CatBoostRegressor\n",
    "from sklearn.metrics import mean_squared_error"
   ]
  },
  {
   "cell_type": "markdown",
   "metadata": {},
   "source": [
    "## Подготовка данных"
   ]
  },
  {
   "cell_type": "markdown",
   "metadata": {},
   "source": [
    "### Обзор данных"
   ]
  },
  {
   "cell_type": "markdown",
   "metadata": {},
   "source": [
    "**Откроим файл с данными, изучим общую информацию.**"
   ]
  },
  {
   "cell_type": "code",
   "execution_count": 3,
   "metadata": {},
   "outputs": [],
   "source": [
    "pth1 = '/datasets/autos.csv'\n",
    "pth2 = 'https://restricted/datasets/autos.csv'\n",
    "\n",
    "if os.path.exists(pth1):\n",
    "    data = pd.read_csv(pth1)\n",
    "#elif os.path.exists(pth2):\n",
    "#    data = pd.read_csv(pth2)\n",
    "else:\n",
    "    try:\n",
    "        data = pd.read_csv(pth2)\n",
    "    except:\n",
    "        print('Something is wrong, datasets not found!!!')"
   ]
  },
  {
   "cell_type": "code",
   "execution_count": 4,
   "metadata": {},
   "outputs": [],
   "source": [
    "# Выведем общую инф о df\n",
    "def df_info(df):\n",
    "    display(df.head())\n",
    "    display(df.info())\n",
    "    display(df.describe())\n",
    "    print(\"Количество дубликатов:\", df.duplicated().sum())\n",
    "\n",
    "def nan_info(df):\n",
    "    zero_val = (df == 0).astype(int).sum(axis=0)\n",
    "    zero_val_percent =  round(zero_val / len(df) * 100, 2)\n",
    "    mis_val = df.isnull().sum()\n",
    "    mis_val_percent = round(mis_val / len(df) * 100, 2)\n",
    "    \n",
    "    info_table = pd.concat([zero_val, zero_val_percent, mis_val, mis_val_percent], axis=1)\n",
    "    info_table = info_table.rename(\n",
    "            columns={0: 'Нулевые значения', 1: '% значений', 2: 'Кол-во пропусков', 3: '% пропусков'})\n",
    "    display(info_table)\n",
    "    print(\"Данные представлены в\", df.shape[1], \"столбцах и\", df.shape[0], \"строках\")\n",
    "    print(\"В\", info_table[info_table.iloc[:, 2] != 0].shape[0], \"столбцах имеются пропуски в кол-ве\", mis_val.sum(), \"или \" + str(round(mis_val.sum() / len(df) * 100, 2)) + \"%\")\n",
    "   "
   ]
  },
  {
   "cell_type": "code",
   "execution_count": 5,
   "metadata": {},
   "outputs": [
    {
     "data": {
      "text/html": [
       "<div>\n",
       "<style scoped>\n",
       "    .dataframe tbody tr th:only-of-type {\n",
       "        vertical-align: middle;\n",
       "    }\n",
       "\n",
       "    .dataframe tbody tr th {\n",
       "        vertical-align: top;\n",
       "    }\n",
       "\n",
       "    .dataframe thead th {\n",
       "        text-align: right;\n",
       "    }\n",
       "</style>\n",
       "<table border=\"1\" class=\"dataframe\">\n",
       "  <thead>\n",
       "    <tr style=\"text-align: right;\">\n",
       "      <th></th>\n",
       "      <th>DateCrawled</th>\n",
       "      <th>Price</th>\n",
       "      <th>VehicleType</th>\n",
       "      <th>RegistrationYear</th>\n",
       "      <th>Gearbox</th>\n",
       "      <th>Power</th>\n",
       "      <th>Model</th>\n",
       "      <th>Kilometer</th>\n",
       "      <th>RegistrationMonth</th>\n",
       "      <th>FuelType</th>\n",
       "      <th>Brand</th>\n",
       "      <th>Repaired</th>\n",
       "      <th>DateCreated</th>\n",
       "      <th>NumberOfPictures</th>\n",
       "      <th>PostalCode</th>\n",
       "      <th>LastSeen</th>\n",
       "    </tr>\n",
       "  </thead>\n",
       "  <tbody>\n",
       "    <tr>\n",
       "      <th>0</th>\n",
       "      <td>2016-03-24 11:52:17</td>\n",
       "      <td>480</td>\n",
       "      <td>NaN</td>\n",
       "      <td>1993</td>\n",
       "      <td>manual</td>\n",
       "      <td>0</td>\n",
       "      <td>golf</td>\n",
       "      <td>150000</td>\n",
       "      <td>0</td>\n",
       "      <td>petrol</td>\n",
       "      <td>volkswagen</td>\n",
       "      <td>NaN</td>\n",
       "      <td>2016-03-24 00:00:00</td>\n",
       "      <td>0</td>\n",
       "      <td>70435</td>\n",
       "      <td>2016-04-07 03:16:57</td>\n",
       "    </tr>\n",
       "    <tr>\n",
       "      <th>1</th>\n",
       "      <td>2016-03-24 10:58:45</td>\n",
       "      <td>18300</td>\n",
       "      <td>coupe</td>\n",
       "      <td>2011</td>\n",
       "      <td>manual</td>\n",
       "      <td>190</td>\n",
       "      <td>NaN</td>\n",
       "      <td>125000</td>\n",
       "      <td>5</td>\n",
       "      <td>gasoline</td>\n",
       "      <td>audi</td>\n",
       "      <td>yes</td>\n",
       "      <td>2016-03-24 00:00:00</td>\n",
       "      <td>0</td>\n",
       "      <td>66954</td>\n",
       "      <td>2016-04-07 01:46:50</td>\n",
       "    </tr>\n",
       "    <tr>\n",
       "      <th>2</th>\n",
       "      <td>2016-03-14 12:52:21</td>\n",
       "      <td>9800</td>\n",
       "      <td>suv</td>\n",
       "      <td>2004</td>\n",
       "      <td>auto</td>\n",
       "      <td>163</td>\n",
       "      <td>grand</td>\n",
       "      <td>125000</td>\n",
       "      <td>8</td>\n",
       "      <td>gasoline</td>\n",
       "      <td>jeep</td>\n",
       "      <td>NaN</td>\n",
       "      <td>2016-03-14 00:00:00</td>\n",
       "      <td>0</td>\n",
       "      <td>90480</td>\n",
       "      <td>2016-04-05 12:47:46</td>\n",
       "    </tr>\n",
       "    <tr>\n",
       "      <th>3</th>\n",
       "      <td>2016-03-17 16:54:04</td>\n",
       "      <td>1500</td>\n",
       "      <td>small</td>\n",
       "      <td>2001</td>\n",
       "      <td>manual</td>\n",
       "      <td>75</td>\n",
       "      <td>golf</td>\n",
       "      <td>150000</td>\n",
       "      <td>6</td>\n",
       "      <td>petrol</td>\n",
       "      <td>volkswagen</td>\n",
       "      <td>no</td>\n",
       "      <td>2016-03-17 00:00:00</td>\n",
       "      <td>0</td>\n",
       "      <td>91074</td>\n",
       "      <td>2016-03-17 17:40:17</td>\n",
       "    </tr>\n",
       "    <tr>\n",
       "      <th>4</th>\n",
       "      <td>2016-03-31 17:25:20</td>\n",
       "      <td>3600</td>\n",
       "      <td>small</td>\n",
       "      <td>2008</td>\n",
       "      <td>manual</td>\n",
       "      <td>69</td>\n",
       "      <td>fabia</td>\n",
       "      <td>90000</td>\n",
       "      <td>7</td>\n",
       "      <td>gasoline</td>\n",
       "      <td>skoda</td>\n",
       "      <td>no</td>\n",
       "      <td>2016-03-31 00:00:00</td>\n",
       "      <td>0</td>\n",
       "      <td>60437</td>\n",
       "      <td>2016-04-06 10:17:21</td>\n",
       "    </tr>\n",
       "  </tbody>\n",
       "</table>\n",
       "</div>"
      ],
      "text/plain": [
       "           DateCrawled  Price VehicleType  RegistrationYear Gearbox  Power  \\\n",
       "0  2016-03-24 11:52:17    480         NaN              1993  manual      0   \n",
       "1  2016-03-24 10:58:45  18300       coupe              2011  manual    190   \n",
       "2  2016-03-14 12:52:21   9800         suv              2004    auto    163   \n",
       "3  2016-03-17 16:54:04   1500       small              2001  manual     75   \n",
       "4  2016-03-31 17:25:20   3600       small              2008  manual     69   \n",
       "\n",
       "   Model  Kilometer  RegistrationMonth  FuelType       Brand Repaired  \\\n",
       "0   golf     150000                  0    petrol  volkswagen      NaN   \n",
       "1    NaN     125000                  5  gasoline        audi      yes   \n",
       "2  grand     125000                  8  gasoline        jeep      NaN   \n",
       "3   golf     150000                  6    petrol  volkswagen       no   \n",
       "4  fabia      90000                  7  gasoline       skoda       no   \n",
       "\n",
       "           DateCreated  NumberOfPictures  PostalCode             LastSeen  \n",
       "0  2016-03-24 00:00:00                 0       70435  2016-04-07 03:16:57  \n",
       "1  2016-03-24 00:00:00                 0       66954  2016-04-07 01:46:50  \n",
       "2  2016-03-14 00:00:00                 0       90480  2016-04-05 12:47:46  \n",
       "3  2016-03-17 00:00:00                 0       91074  2016-03-17 17:40:17  \n",
       "4  2016-03-31 00:00:00                 0       60437  2016-04-06 10:17:21  "
      ]
     },
     "metadata": {},
     "output_type": "display_data"
    },
    {
     "name": "stdout",
     "output_type": "stream",
     "text": [
      "<class 'pandas.core.frame.DataFrame'>\n",
      "RangeIndex: 354369 entries, 0 to 354368\n",
      "Data columns (total 16 columns):\n",
      " #   Column             Non-Null Count   Dtype \n",
      "---  ------             --------------   ----- \n",
      " 0   DateCrawled        354369 non-null  object\n",
      " 1   Price              354369 non-null  int64 \n",
      " 2   VehicleType        316879 non-null  object\n",
      " 3   RegistrationYear   354369 non-null  int64 \n",
      " 4   Gearbox            334536 non-null  object\n",
      " 5   Power              354369 non-null  int64 \n",
      " 6   Model              334664 non-null  object\n",
      " 7   Kilometer          354369 non-null  int64 \n",
      " 8   RegistrationMonth  354369 non-null  int64 \n",
      " 9   FuelType           321474 non-null  object\n",
      " 10  Brand              354369 non-null  object\n",
      " 11  Repaired           283215 non-null  object\n",
      " 12  DateCreated        354369 non-null  object\n",
      " 13  NumberOfPictures   354369 non-null  int64 \n",
      " 14  PostalCode         354369 non-null  int64 \n",
      " 15  LastSeen           354369 non-null  object\n",
      "dtypes: int64(7), object(9)\n",
      "memory usage: 43.3+ MB\n"
     ]
    },
    {
     "data": {
      "text/plain": [
       "None"
      ]
     },
     "metadata": {},
     "output_type": "display_data"
    },
    {
     "data": {
      "text/html": [
       "<div>\n",
       "<style scoped>\n",
       "    .dataframe tbody tr th:only-of-type {\n",
       "        vertical-align: middle;\n",
       "    }\n",
       "\n",
       "    .dataframe tbody tr th {\n",
       "        vertical-align: top;\n",
       "    }\n",
       "\n",
       "    .dataframe thead th {\n",
       "        text-align: right;\n",
       "    }\n",
       "</style>\n",
       "<table border=\"1\" class=\"dataframe\">\n",
       "  <thead>\n",
       "    <tr style=\"text-align: right;\">\n",
       "      <th></th>\n",
       "      <th>Price</th>\n",
       "      <th>RegistrationYear</th>\n",
       "      <th>Power</th>\n",
       "      <th>Kilometer</th>\n",
       "      <th>RegistrationMonth</th>\n",
       "      <th>NumberOfPictures</th>\n",
       "      <th>PostalCode</th>\n",
       "    </tr>\n",
       "  </thead>\n",
       "  <tbody>\n",
       "    <tr>\n",
       "      <th>count</th>\n",
       "      <td>354369.000000</td>\n",
       "      <td>354369.000000</td>\n",
       "      <td>354369.000000</td>\n",
       "      <td>354369.000000</td>\n",
       "      <td>354369.000000</td>\n",
       "      <td>354369.0</td>\n",
       "      <td>354369.000000</td>\n",
       "    </tr>\n",
       "    <tr>\n",
       "      <th>mean</th>\n",
       "      <td>4416.656776</td>\n",
       "      <td>2004.234448</td>\n",
       "      <td>110.094337</td>\n",
       "      <td>128211.172535</td>\n",
       "      <td>5.714645</td>\n",
       "      <td>0.0</td>\n",
       "      <td>50508.689087</td>\n",
       "    </tr>\n",
       "    <tr>\n",
       "      <th>std</th>\n",
       "      <td>4514.158514</td>\n",
       "      <td>90.227958</td>\n",
       "      <td>189.850405</td>\n",
       "      <td>37905.341530</td>\n",
       "      <td>3.726421</td>\n",
       "      <td>0.0</td>\n",
       "      <td>25783.096248</td>\n",
       "    </tr>\n",
       "    <tr>\n",
       "      <th>min</th>\n",
       "      <td>0.000000</td>\n",
       "      <td>1000.000000</td>\n",
       "      <td>0.000000</td>\n",
       "      <td>5000.000000</td>\n",
       "      <td>0.000000</td>\n",
       "      <td>0.0</td>\n",
       "      <td>1067.000000</td>\n",
       "    </tr>\n",
       "    <tr>\n",
       "      <th>25%</th>\n",
       "      <td>1050.000000</td>\n",
       "      <td>1999.000000</td>\n",
       "      <td>69.000000</td>\n",
       "      <td>125000.000000</td>\n",
       "      <td>3.000000</td>\n",
       "      <td>0.0</td>\n",
       "      <td>30165.000000</td>\n",
       "    </tr>\n",
       "    <tr>\n",
       "      <th>50%</th>\n",
       "      <td>2700.000000</td>\n",
       "      <td>2003.000000</td>\n",
       "      <td>105.000000</td>\n",
       "      <td>150000.000000</td>\n",
       "      <td>6.000000</td>\n",
       "      <td>0.0</td>\n",
       "      <td>49413.000000</td>\n",
       "    </tr>\n",
       "    <tr>\n",
       "      <th>75%</th>\n",
       "      <td>6400.000000</td>\n",
       "      <td>2008.000000</td>\n",
       "      <td>143.000000</td>\n",
       "      <td>150000.000000</td>\n",
       "      <td>9.000000</td>\n",
       "      <td>0.0</td>\n",
       "      <td>71083.000000</td>\n",
       "    </tr>\n",
       "    <tr>\n",
       "      <th>max</th>\n",
       "      <td>20000.000000</td>\n",
       "      <td>9999.000000</td>\n",
       "      <td>20000.000000</td>\n",
       "      <td>150000.000000</td>\n",
       "      <td>12.000000</td>\n",
       "      <td>0.0</td>\n",
       "      <td>99998.000000</td>\n",
       "    </tr>\n",
       "  </tbody>\n",
       "</table>\n",
       "</div>"
      ],
      "text/plain": [
       "               Price  RegistrationYear          Power      Kilometer  \\\n",
       "count  354369.000000     354369.000000  354369.000000  354369.000000   \n",
       "mean     4416.656776       2004.234448     110.094337  128211.172535   \n",
       "std      4514.158514         90.227958     189.850405   37905.341530   \n",
       "min         0.000000       1000.000000       0.000000    5000.000000   \n",
       "25%      1050.000000       1999.000000      69.000000  125000.000000   \n",
       "50%      2700.000000       2003.000000     105.000000  150000.000000   \n",
       "75%      6400.000000       2008.000000     143.000000  150000.000000   \n",
       "max     20000.000000       9999.000000   20000.000000  150000.000000   \n",
       "\n",
       "       RegistrationMonth  NumberOfPictures     PostalCode  \n",
       "count      354369.000000          354369.0  354369.000000  \n",
       "mean            5.714645               0.0   50508.689087  \n",
       "std             3.726421               0.0   25783.096248  \n",
       "min             0.000000               0.0    1067.000000  \n",
       "25%             3.000000               0.0   30165.000000  \n",
       "50%             6.000000               0.0   49413.000000  \n",
       "75%             9.000000               0.0   71083.000000  \n",
       "max            12.000000               0.0   99998.000000  "
      ]
     },
     "metadata": {},
     "output_type": "display_data"
    },
    {
     "name": "stdout",
     "output_type": "stream",
     "text": [
      "Количество дубликатов: 4\n"
     ]
    },
    {
     "data": {
      "text/html": [
       "<div>\n",
       "<style scoped>\n",
       "    .dataframe tbody tr th:only-of-type {\n",
       "        vertical-align: middle;\n",
       "    }\n",
       "\n",
       "    .dataframe tbody tr th {\n",
       "        vertical-align: top;\n",
       "    }\n",
       "\n",
       "    .dataframe thead th {\n",
       "        text-align: right;\n",
       "    }\n",
       "</style>\n",
       "<table border=\"1\" class=\"dataframe\">\n",
       "  <thead>\n",
       "    <tr style=\"text-align: right;\">\n",
       "      <th></th>\n",
       "      <th>Нулевые значения</th>\n",
       "      <th>% значений</th>\n",
       "      <th>Кол-во пропусков</th>\n",
       "      <th>% пропусков</th>\n",
       "    </tr>\n",
       "  </thead>\n",
       "  <tbody>\n",
       "    <tr>\n",
       "      <th>DateCrawled</th>\n",
       "      <td>0</td>\n",
       "      <td>0.00</td>\n",
       "      <td>0</td>\n",
       "      <td>0.00</td>\n",
       "    </tr>\n",
       "    <tr>\n",
       "      <th>Price</th>\n",
       "      <td>10772</td>\n",
       "      <td>3.04</td>\n",
       "      <td>0</td>\n",
       "      <td>0.00</td>\n",
       "    </tr>\n",
       "    <tr>\n",
       "      <th>VehicleType</th>\n",
       "      <td>0</td>\n",
       "      <td>0.00</td>\n",
       "      <td>37490</td>\n",
       "      <td>10.58</td>\n",
       "    </tr>\n",
       "    <tr>\n",
       "      <th>RegistrationYear</th>\n",
       "      <td>0</td>\n",
       "      <td>0.00</td>\n",
       "      <td>0</td>\n",
       "      <td>0.00</td>\n",
       "    </tr>\n",
       "    <tr>\n",
       "      <th>Gearbox</th>\n",
       "      <td>0</td>\n",
       "      <td>0.00</td>\n",
       "      <td>19833</td>\n",
       "      <td>5.60</td>\n",
       "    </tr>\n",
       "    <tr>\n",
       "      <th>Power</th>\n",
       "      <td>40225</td>\n",
       "      <td>11.35</td>\n",
       "      <td>0</td>\n",
       "      <td>0.00</td>\n",
       "    </tr>\n",
       "    <tr>\n",
       "      <th>Model</th>\n",
       "      <td>0</td>\n",
       "      <td>0.00</td>\n",
       "      <td>19705</td>\n",
       "      <td>5.56</td>\n",
       "    </tr>\n",
       "    <tr>\n",
       "      <th>Kilometer</th>\n",
       "      <td>0</td>\n",
       "      <td>0.00</td>\n",
       "      <td>0</td>\n",
       "      <td>0.00</td>\n",
       "    </tr>\n",
       "    <tr>\n",
       "      <th>RegistrationMonth</th>\n",
       "      <td>37352</td>\n",
       "      <td>10.54</td>\n",
       "      <td>0</td>\n",
       "      <td>0.00</td>\n",
       "    </tr>\n",
       "    <tr>\n",
       "      <th>FuelType</th>\n",
       "      <td>0</td>\n",
       "      <td>0.00</td>\n",
       "      <td>32895</td>\n",
       "      <td>9.28</td>\n",
       "    </tr>\n",
       "    <tr>\n",
       "      <th>Brand</th>\n",
       "      <td>0</td>\n",
       "      <td>0.00</td>\n",
       "      <td>0</td>\n",
       "      <td>0.00</td>\n",
       "    </tr>\n",
       "    <tr>\n",
       "      <th>Repaired</th>\n",
       "      <td>0</td>\n",
       "      <td>0.00</td>\n",
       "      <td>71154</td>\n",
       "      <td>20.08</td>\n",
       "    </tr>\n",
       "    <tr>\n",
       "      <th>DateCreated</th>\n",
       "      <td>0</td>\n",
       "      <td>0.00</td>\n",
       "      <td>0</td>\n",
       "      <td>0.00</td>\n",
       "    </tr>\n",
       "    <tr>\n",
       "      <th>NumberOfPictures</th>\n",
       "      <td>354369</td>\n",
       "      <td>100.00</td>\n",
       "      <td>0</td>\n",
       "      <td>0.00</td>\n",
       "    </tr>\n",
       "    <tr>\n",
       "      <th>PostalCode</th>\n",
       "      <td>0</td>\n",
       "      <td>0.00</td>\n",
       "      <td>0</td>\n",
       "      <td>0.00</td>\n",
       "    </tr>\n",
       "    <tr>\n",
       "      <th>LastSeen</th>\n",
       "      <td>0</td>\n",
       "      <td>0.00</td>\n",
       "      <td>0</td>\n",
       "      <td>0.00</td>\n",
       "    </tr>\n",
       "  </tbody>\n",
       "</table>\n",
       "</div>"
      ],
      "text/plain": [
       "                   Нулевые значения  % значений  Кол-во пропусков  % пропусков\n",
       "DateCrawled                       0        0.00                 0         0.00\n",
       "Price                         10772        3.04                 0         0.00\n",
       "VehicleType                       0        0.00             37490        10.58\n",
       "RegistrationYear                  0        0.00                 0         0.00\n",
       "Gearbox                           0        0.00             19833         5.60\n",
       "Power                         40225       11.35                 0         0.00\n",
       "Model                             0        0.00             19705         5.56\n",
       "Kilometer                         0        0.00                 0         0.00\n",
       "RegistrationMonth             37352       10.54                 0         0.00\n",
       "FuelType                          0        0.00             32895         9.28\n",
       "Brand                             0        0.00                 0         0.00\n",
       "Repaired                          0        0.00             71154        20.08\n",
       "DateCreated                       0        0.00                 0         0.00\n",
       "NumberOfPictures             354369      100.00                 0         0.00\n",
       "PostalCode                        0        0.00                 0         0.00\n",
       "LastSeen                          0        0.00                 0         0.00"
      ]
     },
     "metadata": {},
     "output_type": "display_data"
    },
    {
     "name": "stdout",
     "output_type": "stream",
     "text": [
      "Данные представлены в 16 столбцах и 354369 строках\n",
      "В 5 столбцах имеются пропуски в кол-ве 181077 или 51.1%\n"
     ]
    }
   ],
   "source": [
    "df_info(data)\n",
    "nan_info(data)"
   ]
  },
  {
   "cell_type": "markdown",
   "metadata": {},
   "source": [
    "Данные представлены следующими признаками"
   ]
  },
  {
   "cell_type": "markdown",
   "metadata": {},
   "source": [
    "- `DateCrawled` — дата скачивания анкеты из базы\n",
    "- `VehicleType` — тип автомобильного кузова\n",
    "- `RegistrationYear` — год регистрации автомобиля\n",
    "- `Gearbox` — тип коробки передач\n",
    "- `Power` — мощность (л. с.)\n",
    "- `Model` — модель автомобиля\n",
    "- `Kilometer` — пробег (км)\n",
    "- `RegistrationMonth` — месяц регистрации автомобиля\n",
    "- `FuelType` — тип топлива\n",
    "- `Brand` — марка автомобиля\n",
    "- `Repaired` — была машина в ремонте или нет\n",
    "- `DateCreated` — дата создания анкеты\n",
    "- `NumberOfPictures` — количество фотографий автомобиля\n",
    "- `PostalCode` — почтовый индекс владельца анкеты (пользователя)\n",
    "- `LastSeen` — дата последней активности пользователя  \n",
    "\n",
    "**Целевой признак**\n",
    "- `Price` — цена (евро)"
   ]
  },
  {
   "cell_type": "markdown",
   "metadata": {},
   "source": [
    "В данных присутствуют пропуски, нулевые значения и аномалии - требуется предобработка данных."
   ]
  },
  {
   "cell_type": "markdown",
   "metadata": {},
   "source": [
    "## Предобработка данных"
   ]
  },
  {
   "cell_type": "markdown",
   "metadata": {},
   "source": [
    "### Дубликаты"
   ]
  },
  {
   "cell_type": "markdown",
   "metadata": {},
   "source": [
    "В данных присутствуют явные дубликаты, удалим их"
   ]
  },
  {
   "cell_type": "code",
   "execution_count": 6,
   "metadata": {},
   "outputs": [],
   "source": [
    "data = data.drop_duplicates().reset_index(drop=True)"
   ]
  },
  {
   "cell_type": "markdown",
   "metadata": {},
   "source": [
    "### Пропуски"
   ]
  },
  {
   "cell_type": "markdown",
   "metadata": {},
   "source": [
    "В столбце `Model` — модель автомобиля, достоверно узнать модель авто не представляется, удалим эти данные"
   ]
  },
  {
   "cell_type": "code",
   "execution_count": 7,
   "metadata": {},
   "outputs": [],
   "source": [
    "data.dropna(subset=['Model'], inplace=True)"
   ]
  },
  {
   "cell_type": "markdown",
   "metadata": {},
   "source": [
    "В столбце `VehicleType` — тип автомобильного кузова, присутствуют пропуски (более 10%). Так как достоверно узнать тип кузова невозможно заменим на 'unknown'"
   ]
  },
  {
   "cell_type": "code",
   "execution_count": 8,
   "metadata": {},
   "outputs": [],
   "source": [
    "data.VehicleType = data.VehicleType.fillna('unknown')"
   ]
  },
  {
   "cell_type": "markdown",
   "metadata": {},
   "source": [
    "В столбце `Gearbox` — тип коробки передач и `FuelType` — тип топлива, пропуски заменим наиболее часто встречаемым для пары `Brand` - `Model`"
   ]
  },
  {
   "cell_type": "code",
   "execution_count": 9,
   "metadata": {},
   "outputs": [],
   "source": [
    "def fill_with_mode(col):\n",
    "    data[col] = data.groupby(['Brand', 'Model'])[col].apply( lambda x: x.fillna(x.mode()[0]))"
   ]
  },
  {
   "cell_type": "code",
   "execution_count": 10,
   "metadata": {},
   "outputs": [],
   "source": [
    "fill_with_mode('Gearbox')\n",
    "fill_with_mode('FuelType')"
   ]
  },
  {
   "cell_type": "markdown",
   "metadata": {},
   "source": [
    "Пропуски в столбце `Repaired` — была машина в ремонте или нет, заполним исходя из того что отсутствие данных свидетельствует о том, что пользователь явно не указывал о ремонте машины т.к. его (ремонта) не было. Возможен технический сбой "
   ]
  },
  {
   "cell_type": "code",
   "execution_count": 11,
   "metadata": {},
   "outputs": [],
   "source": [
    "data.Repaired = data.Repaired.fillna('no')"
   ]
  },
  {
   "cell_type": "markdown",
   "metadata": {},
   "source": [
    "### Аномалии"
   ]
  },
  {
   "cell_type": "markdown",
   "metadata": {},
   "source": [
    "К явным выбросам отнесем следующее:\n",
    "- В `Price` — цена, наблюдается необчно низкая (нулевая) и достаточно высокая стоимость авто;\n",
    "- В `Power` — мощность (л.с.), наблюдается необчно низкая (нулевая) и достаточно высокая мощность;\n",
    "- В `RegistrationYear` — год регистрации автомобиля, смущает минимальное значение (1000) и максимальное (9999)."
   ]
  },
  {
   "cell_type": "markdown",
   "metadata": {},
   "source": [
    "Посмотрим на `Price`"
   ]
  },
  {
   "cell_type": "code",
   "execution_count": 12,
   "metadata": {},
   "outputs": [
    {
     "data": {
      "image/png": "[encoded data removed]",
      "text/plain": [
       "<Figure size 640x480 with 1 Axes>"
      ]
     },
     "metadata": {},
     "output_type": "display_data"
    },
    {
     "data": {
      "image/png": "[encoded data removed]",
      "text/plain": [
       "<Figure size 1000x500 with 1 Axes>"
      ]
     },
     "metadata": {},
     "output_type": "display_data"
    }
   ],
   "source": [
    "data.Price.plot(kind=\"hist\",\n",
    "                      title='Распределение по признаку Price',\n",
    "                      alpha=0.5, \n",
    "                      bins=100)\n",
    "plt.xlabel('Цена, евро')\n",
    "plt.ylabel('Частота')\n",
    "plt.show()\n",
    "plt.figure(figsize=(10, 5))\n",
    "ax=sns.boxplot(x = data.Price)\n",
    "ax.set()\n",
    "plt.xlabel('Цена, евро')\n",
    "plt.title('Распределение по признаку Price')\n",
    "plt.show()"
   ]
  },
  {
   "cell_type": "markdown",
   "metadata": {},
   "source": [
    "Отсеим выбросы с очень низкой (до 200) и очень высокой (более 14800) ценой"
   ]
  },
  {
   "cell_type": "code",
   "execution_count": 13,
   "metadata": {},
   "outputs": [],
   "source": [
    "data = data[(data['Price']>=200) & (data['Price']<=14800)]"
   ]
  },
  {
   "cell_type": "markdown",
   "metadata": {},
   "source": [
    "Посмотрим на `Power`"
   ]
  },
  {
   "cell_type": "code",
   "execution_count": 14,
   "metadata": {},
   "outputs": [
    {
     "data": {
      "image/png": "[encoded data removed]",
      "text/plain": [
       "<Figure size 640x480 with 1 Axes>"
      ]
     },
     "metadata": {},
     "output_type": "display_data"
    },
    {
     "data": {
      "image/png": "[encoded data removed]",
      "text/plain": [
       "<Figure size 1000x500 with 1 Axes>"
      ]
     },
     "metadata": {},
     "output_type": "display_data"
    }
   ],
   "source": [
    "data[(data['Power']>=40) & (data['Power']<=300)].Power.plot(kind=\"hist\",\n",
    "                      title='Распределение по признаку Power',\n",
    "                      alpha=0.5, \n",
    "                      bins=100)\n",
    "plt.xlabel('мощность (л.с.)')\n",
    "plt.ylabel('Частота')\n",
    "plt.show()\n",
    "plt.figure(figsize=(10, 5))\n",
    "ax=sns.boxplot(x = data[(data['Power']>=40) & (data['Power']<=300)].Power)\n",
    "ax.set()\n",
    "plt.xlabel('мощность (л.с.)')\n",
    "plt.title('Распределение по признаку Power')\n",
    "plt.show()"
   ]
  },
  {
   "cell_type": "markdown",
   "metadata": {},
   "source": [
    "Отсеим выбросы с очень низкой (до 40) и очень высокой (более 300) мощностью"
   ]
  },
  {
   "cell_type": "code",
   "execution_count": 15,
   "metadata": {},
   "outputs": [],
   "source": [
    "data = data[(data['Power']>=40) & (data['Power']<=300)]"
   ]
  },
  {
   "cell_type": "markdown",
   "metadata": {},
   "source": [
    "Посмотрим на `RegistrationYear`"
   ]
  },
  {
   "cell_type": "markdown",
   "metadata": {},
   "source": [
    "В данных присутствует признак `DateCreated` — дата создания анкеты, отсеим максимальные значения исходя из соображения что год регистрации авто не может быть больше чем дата создания анкеты в сервисе, а минимальные исходя из даты производства первого серийного автомобиля - 1895г"
   ]
  },
  {
   "cell_type": "code",
   "execution_count": 16,
   "metadata": {},
   "outputs": [],
   "source": [
    "data['DateCreated'] = pd.to_datetime(data['DateCreated'], format='%Y-%m-%d')\n",
    "\n",
    "data = data[(data['RegistrationYear']>=1895) & (data['RegistrationYear']<=data['DateCreated'].dt.year.max())]"
   ]
  },
  {
   "cell_type": "markdown",
   "metadata": {},
   "source": [
    "Уберем неинформативные признаки:\n",
    "- `DateCrawled` — дата скачивания анкеты из базы\n",
    "- `RegistrationMonth` — месяц регистрации автомобиля\n",
    "- `DateCreated` — дата создания анкеты\n",
    "- `NumberOfPictures` — количество фотографий автомобиля\n",
    "- `PostalCode` — почтовый индекс владельца анкеты (пользователя)\n",
    "- `LastSeen` — дата последней активности пользователя  \n",
    "\n",
    "В связи с тем, что они никоим образом не влияют на итоговую стоимость автомобиля и носят информационный характер для сервиса"
   ]
  },
  {
   "cell_type": "code",
   "execution_count": 17,
   "metadata": {},
   "outputs": [],
   "source": [
    "data.drop(['DateCrawled', 'RegistrationMonth', 'DateCreated', 'NumberOfPictures', 'PostalCode', 'LastSeen'], axis=1, inplace=True)"
   ]
  },
  {
   "cell_type": "code",
   "execution_count": 18,
   "metadata": {},
   "outputs": [],
   "source": [
    "data.reset_index(drop=True, inplace=True)"
   ]
  },
  {
   "cell_type": "markdown",
   "metadata": {},
   "source": [
    "Посмотрим на итоговые данные"
   ]
  },
  {
   "cell_type": "code",
   "execution_count": 19,
   "metadata": {},
   "outputs": [
    {
     "data": {
      "text/html": [
       "<div>\n",
       "<style scoped>\n",
       "    .dataframe tbody tr th:only-of-type {\n",
       "        vertical-align: middle;\n",
       "    }\n",
       "\n",
       "    .dataframe tbody tr th {\n",
       "        vertical-align: top;\n",
       "    }\n",
       "\n",
       "    .dataframe thead th {\n",
       "        text-align: right;\n",
       "    }\n",
       "</style>\n",
       "<table border=\"1\" class=\"dataframe\">\n",
       "  <thead>\n",
       "    <tr style=\"text-align: right;\">\n",
       "      <th></th>\n",
       "      <th>Price</th>\n",
       "      <th>RegistrationYear</th>\n",
       "      <th>Power</th>\n",
       "      <th>Kilometer</th>\n",
       "    </tr>\n",
       "  </thead>\n",
       "  <tbody>\n",
       "    <tr>\n",
       "      <th>count</th>\n",
       "      <td>263219.000000</td>\n",
       "      <td>263219.000000</td>\n",
       "      <td>263219.000000</td>\n",
       "      <td>263219.000000</td>\n",
       "    </tr>\n",
       "    <tr>\n",
       "      <th>mean</th>\n",
       "      <td>4198.163438</td>\n",
       "      <td>2002.677326</td>\n",
       "      <td>116.245275</td>\n",
       "      <td>130445.427572</td>\n",
       "    </tr>\n",
       "    <tr>\n",
       "      <th>std</th>\n",
       "      <td>3588.051243</td>\n",
       "      <td>6.031581</td>\n",
       "      <td>46.609595</td>\n",
       "      <td>34659.307317</td>\n",
       "    </tr>\n",
       "    <tr>\n",
       "      <th>min</th>\n",
       "      <td>200.000000</td>\n",
       "      <td>1910.000000</td>\n",
       "      <td>40.000000</td>\n",
       "      <td>5000.000000</td>\n",
       "    </tr>\n",
       "    <tr>\n",
       "      <th>25%</th>\n",
       "      <td>1300.000000</td>\n",
       "      <td>1999.000000</td>\n",
       "      <td>75.000000</td>\n",
       "      <td>125000.000000</td>\n",
       "    </tr>\n",
       "    <tr>\n",
       "      <th>50%</th>\n",
       "      <td>2999.000000</td>\n",
       "      <td>2003.000000</td>\n",
       "      <td>109.000000</td>\n",
       "      <td>150000.000000</td>\n",
       "    </tr>\n",
       "    <tr>\n",
       "      <th>75%</th>\n",
       "      <td>6200.000000</td>\n",
       "      <td>2007.000000</td>\n",
       "      <td>143.000000</td>\n",
       "      <td>150000.000000</td>\n",
       "    </tr>\n",
       "    <tr>\n",
       "      <th>max</th>\n",
       "      <td>14800.000000</td>\n",
       "      <td>2016.000000</td>\n",
       "      <td>300.000000</td>\n",
       "      <td>150000.000000</td>\n",
       "    </tr>\n",
       "  </tbody>\n",
       "</table>\n",
       "</div>"
      ],
      "text/plain": [
       "               Price  RegistrationYear          Power      Kilometer\n",
       "count  263219.000000     263219.000000  263219.000000  263219.000000\n",
       "mean     4198.163438       2002.677326     116.245275  130445.427572\n",
       "std      3588.051243          6.031581      46.609595   34659.307317\n",
       "min       200.000000       1910.000000      40.000000    5000.000000\n",
       "25%      1300.000000       1999.000000      75.000000  125000.000000\n",
       "50%      2999.000000       2003.000000     109.000000  150000.000000\n",
       "75%      6200.000000       2007.000000     143.000000  150000.000000\n",
       "max     14800.000000       2016.000000     300.000000  150000.000000"
      ]
     },
     "metadata": {},
     "output_type": "display_data"
    },
    {
     "data": {
      "text/html": [
       "<div>\n",
       "<style scoped>\n",
       "    .dataframe tbody tr th:only-of-type {\n",
       "        vertical-align: middle;\n",
       "    }\n",
       "\n",
       "    .dataframe tbody tr th {\n",
       "        vertical-align: top;\n",
       "    }\n",
       "\n",
       "    .dataframe thead th {\n",
       "        text-align: right;\n",
       "    }\n",
       "</style>\n",
       "<table border=\"1\" class=\"dataframe\">\n",
       "  <thead>\n",
       "    <tr style=\"text-align: right;\">\n",
       "      <th></th>\n",
       "      <th>Нулевые значения</th>\n",
       "      <th>% значений</th>\n",
       "      <th>Кол-во пропусков</th>\n",
       "      <th>% пропусков</th>\n",
       "    </tr>\n",
       "  </thead>\n",
       "  <tbody>\n",
       "    <tr>\n",
       "      <th>Price</th>\n",
       "      <td>0</td>\n",
       "      <td>0.0</td>\n",
       "      <td>0</td>\n",
       "      <td>0.0</td>\n",
       "    </tr>\n",
       "    <tr>\n",
       "      <th>VehicleType</th>\n",
       "      <td>0</td>\n",
       "      <td>0.0</td>\n",
       "      <td>0</td>\n",
       "      <td>0.0</td>\n",
       "    </tr>\n",
       "    <tr>\n",
       "      <th>RegistrationYear</th>\n",
       "      <td>0</td>\n",
       "      <td>0.0</td>\n",
       "      <td>0</td>\n",
       "      <td>0.0</td>\n",
       "    </tr>\n",
       "    <tr>\n",
       "      <th>Gearbox</th>\n",
       "      <td>0</td>\n",
       "      <td>0.0</td>\n",
       "      <td>0</td>\n",
       "      <td>0.0</td>\n",
       "    </tr>\n",
       "    <tr>\n",
       "      <th>Power</th>\n",
       "      <td>0</td>\n",
       "      <td>0.0</td>\n",
       "      <td>0</td>\n",
       "      <td>0.0</td>\n",
       "    </tr>\n",
       "    <tr>\n",
       "      <th>Model</th>\n",
       "      <td>0</td>\n",
       "      <td>0.0</td>\n",
       "      <td>0</td>\n",
       "      <td>0.0</td>\n",
       "    </tr>\n",
       "    <tr>\n",
       "      <th>Kilometer</th>\n",
       "      <td>0</td>\n",
       "      <td>0.0</td>\n",
       "      <td>0</td>\n",
       "      <td>0.0</td>\n",
       "    </tr>\n",
       "    <tr>\n",
       "      <th>FuelType</th>\n",
       "      <td>0</td>\n",
       "      <td>0.0</td>\n",
       "      <td>0</td>\n",
       "      <td>0.0</td>\n",
       "    </tr>\n",
       "    <tr>\n",
       "      <th>Brand</th>\n",
       "      <td>0</td>\n",
       "      <td>0.0</td>\n",
       "      <td>0</td>\n",
       "      <td>0.0</td>\n",
       "    </tr>\n",
       "    <tr>\n",
       "      <th>Repaired</th>\n",
       "      <td>0</td>\n",
       "      <td>0.0</td>\n",
       "      <td>0</td>\n",
       "      <td>0.0</td>\n",
       "    </tr>\n",
       "  </tbody>\n",
       "</table>\n",
       "</div>"
      ],
      "text/plain": [
       "                  Нулевые значения  % значений  Кол-во пропусков  % пропусков\n",
       "Price                            0         0.0                 0          0.0\n",
       "VehicleType                      0         0.0                 0          0.0\n",
       "RegistrationYear                 0         0.0                 0          0.0\n",
       "Gearbox                          0         0.0                 0          0.0\n",
       "Power                            0         0.0                 0          0.0\n",
       "Model                            0         0.0                 0          0.0\n",
       "Kilometer                        0         0.0                 0          0.0\n",
       "FuelType                         0         0.0                 0          0.0\n",
       "Brand                            0         0.0                 0          0.0\n",
       "Repaired                         0         0.0                 0          0.0"
      ]
     },
     "metadata": {},
     "output_type": "display_data"
    },
    {
     "name": "stdout",
     "output_type": "stream",
     "text": [
      "Данные представлены в 10 столбцах и 263219 строках\n",
      "В 0 столбцах имеются пропуски в кол-ве 0 или 0.0%\n"
     ]
    }
   ],
   "source": [
    "display(data.describe())\n",
    "nan_info(data)"
   ]
  },
  {
   "cell_type": "markdown",
   "metadata": {},
   "source": [
    "На данном этапе произведена загрузка данных и их подготовка:\n",
    "- Для анализа данных и построения модели предоставлен датасет, содержащий информацию о технических характеристиках, комплектациях и ценах автомобилей, которые размещались на площадке сервиса «Не бит, не крашен» для продажи. Датасет состоит из 16 столбцов с данными и 354369 строк.\n",
    "- Пропуски данных были в столбцах `VehicleType`, `Gearbox`, `Model`, `FuelType`, `Repaired`:\n",
    "    - данные с пропусками в столбце `Model` были удалены;\n",
    "    - пропуски данных в столбцах `Gearbox` и `FuelType` заполнены ниболее часто встречающимся значением для пары `Brand` - `Model`;\n",
    "    - пропуски данных в столбцах `VehicleType' заменены на значение `unknown`;\n",
    "    - пропуски в столбце `Repaired` заменены на `no`.\n",
    "- Построение диаграмм размаха позволило определить аномальные значения в столбцах `Price` `Power` и избавиться от них;\n",
    "- Так же обработаны аномалии в `RegistrationYear`\n",
    "- Финальным этапом предобработки данных стало удаление ненужных для обучения моделей признаков, а именно - `DateCrawled`, `RegistrationMonth`, `DateCreated`, `NumberOfPictures`, `PostalCode`, `LastSeen`.\n",
    "\n",
    "В итоге получен датасет, состоящий из 10 столбцов с данными и 263219 строк."
   ]
  },
  {
   "cell_type": "markdown",
   "metadata": {},
   "source": [
    "## Обучение моделей"
   ]
  },
  {
   "cell_type": "markdown",
   "metadata": {},
   "source": [
    "Подготовим признаки, разделим исходные данные на обучающую и тестовую выборки в соотношении 75:25"
   ]
  },
  {
   "cell_type": "code",
   "execution_count": 20,
   "metadata": {},
   "outputs": [
    {
     "name": "stdout",
     "output_type": "stream",
     "text": [
      "Размерность тренеровочных данных (197414, 9)\n",
      "Размерность тестовых данных (65805, 9)\n"
     ]
    }
   ],
   "source": [
    "# Определим категориальные признаки\n",
    "cat_features = ['VehicleType', 'Gearbox', 'Model', 'FuelType', 'Brand', 'Repaired']\n",
    "\n",
    "# Изменим тип, т.к. данные модели градиентного бустинга умеют работать с категориальными признаками\n",
    "data[cat_features] = data[cat_features].astype('category')\n",
    "\n",
    "# Подготовим признаки\n",
    "features = data.drop(['Price'], axis=1)\n",
    "target = data['Price']\n",
    "\n",
    "# Разделим данные\n",
    "(features_train, features_test, \n",
    "     target_train, target_test) = train_test_split(features, target, \n",
    "                                                     test_size=0.25, \n",
    "                                                     random_state=12345)\n",
    "# Скопируем признаки для кодировки\n",
    "features_train_ohe = features_train.copy()\n",
    "features_test_ohe = features_test.copy()\n",
    "\n",
    "print(\"Размерность тренеровочных данных\", features_train.shape)\n",
    "print(\"Размерность тестовых данных\", features_test.shape)"
   ]
  },
  {
   "cell_type": "markdown",
   "metadata": {},
   "source": [
    "В данных содержатся категориальные признаки, закодируем их при помощи OrdinalEncoder"
   ]
  },
  {
   "cell_type": "code",
   "execution_count": 21,
   "metadata": {},
   "outputs": [],
   "source": [
    "# Кодировка OE\n",
    "encoder = OrdinalEncoder(handle_unknown='use_encoded_value', unknown_value=100500)\n",
    "\n",
    "encoder.fit(features_train[cat_features])\n",
    "\n",
    "features_train_ohe[cat_features] = pd.DataFrame(encoder.transform(features_train[cat_features]), \n",
    "                                                columns=features_train[cat_features].columns,\n",
    "                                                index=features_train.index)\n",
    "features_test_ohe[cat_features] = pd.DataFrame(encoder.transform(features_test[cat_features]), \n",
    "                                                columns=features_test[cat_features].columns,\n",
    "                                                index=features_test.index)"
   ]
  },
  {
   "cell_type": "markdown",
   "metadata": {},
   "source": [
    "Проведем обучение трех моделей: `RandomForestRegressor`, `LGBMRegressor`, `CatBoostRegressor`"
   ]
  },
  {
   "cell_type": "markdown",
   "metadata": {},
   "source": [
    "Модель на основе Случайного леса"
   ]
  },
  {
   "cell_type": "code",
   "execution_count": 22,
   "metadata": {},
   "outputs": [
    {
     "name": "stdout",
     "output_type": "stream",
     "text": [
      "Fitting 3 folds for each of 40 candidates, totalling 120 fits\n",
      "best params {'max_depth': None, 'n_estimators': 160} score 1329.22409\n",
      "CPU times: total: 1min\n",
      "Wall time: 6min 10s\n"
     ]
    }
   ],
   "source": [
    "%%time\n",
    "model_rfr = RandomForestRegressor(random_state=12345)\n",
    "\n",
    "param_grid_rfr = {\n",
    "      'n_estimators': range(10, 210, 50),\n",
    "      'max_depth' : [None] + [i for i in range(2, 11)]\n",
    "}\n",
    "\n",
    "# Обучение\n",
    "cv_rfr = GridSearchCV(estimator=model_rfr, \n",
    "                      param_grid=param_grid_rfr, \n",
    "                      cv=3,\n",
    "                      n_jobs=-1,\n",
    "                      scoring='neg_root_mean_squared_error',\n",
    "                      verbose=10\n",
    "                     )\n",
    "cv_rfr.fit(features_train_ohe, target_train)\n",
    "\n",
    "cv_rfr_best_params = cv_rfr.best_params_\n",
    "cv_rfr_best_score = round(-cv_rfr.best_score_, 6)\n",
    "\n",
    "cv_rfr_results = ['RandomForest', \n",
    "                  cv_rfr_best_score, \n",
    "                  round(cv_rfr.cv_results_['mean_fit_time'][cv_rfr.best_index_], 6), \n",
    "                  round(cv_rfr.cv_results_['mean_score_time'][cv_rfr.best_index_], 6)]\n",
    "\n",
    "print(\"best params\", cv_rfr_best_params, \"score\", cv_rfr_best_score)"
   ]
  },
  {
   "cell_type": "markdown",
   "metadata": {},
   "source": [
    "Модель LightGBM для градиентного бустинга"
   ]
  },
  {
   "cell_type": "code",
   "execution_count": 23,
   "metadata": {},
   "outputs": [
    {
     "name": "stdout",
     "output_type": "stream",
     "text": [
      "Fitting 3 folds for each of 64 candidates, totalling 192 fits\n",
      "best params {'learning_rate': 0.03, 'max_depth': 25, 'n_estimators': 760} score 1287.548695\n",
      "CPU times: total: 16.5 s\n",
      "Wall time: 3min 24s\n"
     ]
    }
   ],
   "source": [
    "%%time\n",
    "\n",
    "model_lgb = LGBMRegressor()\n",
    "\n",
    "param_grid_lgb = {\n",
    "    'max_depth': [25, 50],\n",
    "    'learning_rate' : [0.01, 0.03],\n",
    "    'n_estimators': range(10, 800, 50),\n",
    "}\n",
    "\n",
    "cv_lgb = GridSearchCV(estimator=model_lgb, \n",
    "                      param_grid=param_grid_lgb, \n",
    "                      cv=3,\n",
    "                      n_jobs=-1,\n",
    "                      scoring='neg_root_mean_squared_error',\n",
    "                      verbose=10\n",
    "                     )\n",
    "cv_lgb.fit(features_train, target_train)\n",
    "\n",
    "cv_lgb_best_params = cv_lgb.best_params_\n",
    "cv_lgb_best_score = round(-cv_lgb.best_score_, 6)\n",
    "\n",
    "cv_lgb_results = ['LightGBM', \n",
    "                  cv_lgb_best_score, \n",
    "                  round(cv_lgb.cv_results_['mean_fit_time'][cv_lgb.best_index_], 6), \n",
    "                  round(cv_lgb.cv_results_['mean_score_time'][cv_lgb.best_index_], 6)]\n",
    "\n",
    "print(\"best params\", cv_lgb_best_params, \"score\", cv_lgb_best_score)"
   ]
  },
  {
   "cell_type": "markdown",
   "metadata": {},
   "source": [
    "Модель CatBoost для градиентного бустинга"
   ]
  },
  {
   "cell_type": "code",
   "execution_count": 24,
   "metadata": {},
   "outputs": [
    {
     "name": "stdout",
     "output_type": "stream",
     "text": [
      "Fitting 3 folds for each of 36 candidates, totalling 108 fits\n",
      "Learning rate set to 0.282147\n",
      "0:\tlearn: 2883.6270834\ttotal: 306ms\tremaining: 1m 19s\n",
      "30:\tlearn: 1306.4131369\ttotal: 4.25s\tremaining: 31.4s\n",
      "60:\tlearn: 1240.0901950\ttotal: 8.12s\tremaining: 26.5s\n",
      "90:\tlearn: 1195.1667524\ttotal: 12.2s\tremaining: 22.7s\n",
      "120:\tlearn: 1175.9327643\ttotal: 16.3s\tremaining: 18.7s\n",
      "150:\tlearn: 1155.2139576\ttotal: 20.1s\tremaining: 14.5s\n",
      "180:\tlearn: 1139.6349828\ttotal: 24s\tremaining: 10.5s\n",
      "210:\tlearn: 1123.3033525\ttotal: 28.4s\tremaining: 6.61s\n",
      "240:\tlearn: 1110.4913573\ttotal: 32.8s\tremaining: 2.59s\n",
      "259:\tlearn: 1101.7001028\ttotal: 35.7s\tremaining: 0us\n",
      "best params {'depth': 11, 'iterations': 260} score 1277.551066\n",
      "CPU times: total: 2min 39s\n",
      "Wall time: 7min 8s\n"
     ]
    }
   ],
   "source": [
    "%%time\n",
    "model_cb = CatBoostRegressor(random_state=12345)\n",
    "\n",
    "param_grid_cb = {\n",
    "    'depth' : range(1, 12, 2),\n",
    "    'iterations': range(10, 300, 50),\n",
    "}\n",
    "\n",
    "cv_cb = GridSearchCV(estimator=model_cb, \n",
    "                      param_grid=param_grid_cb, \n",
    "                      cv=3,\n",
    "                      n_jobs=-1,\n",
    "                      scoring='neg_root_mean_squared_error',\n",
    "                      verbose=10\n",
    "                     )\n",
    "cv_cb.fit(features_train, target_train, cat_features=cat_features, verbose=30)\n",
    "\n",
    "cv_cb_best_params = cv_cb.best_params_\n",
    "cv_cb_best_score = round(-cv_cb.best_score_, 6)\n",
    "\n",
    "cv_cb_results = ['CatBoost', \n",
    "                  cv_cb_best_score, \n",
    "                  round(cv_cb.cv_results_['mean_fit_time'][cv_cb.best_index_], 6), \n",
    "                  round(cv_cb.cv_results_['mean_score_time'][cv_cb.best_index_], 6)]\n",
    "\n",
    "print(\"best params\", cv_cb_best_params, \"score\", cv_cb_best_score)"
   ]
  },
  {
   "cell_type": "markdown",
   "metadata": {},
   "source": [
    "## Анализ моделей"
   ]
  },
  {
   "cell_type": "code",
   "execution_count": 25,
   "metadata": {},
   "outputs": [],
   "source": [
    "# функция для анализа моделей\n",
    "def model_analysis (features_train, target_train, features_test, target_test, model, model_name):\n",
    "    start = time.time()    \n",
    "    model.fit(features_train, target_train)\n",
    "    end = time.time()\n",
    "    fit_time = end - start\n",
    "    \n",
    "    start = time.time()\n",
    "    model_pred = model.predict(features_test)\n",
    "    end = time.time()\n",
    "    pred_time = end - start\n",
    "    \n",
    "    rmse = round(mean_squared_error(target_test, model_pred, squared = False), 5)\n",
    "    \n",
    "    return [model_name, rmse, fit_time, pred_time]"
   ]
  },
  {
   "cell_type": "markdown",
   "metadata": {},
   "source": [
    "Проведем анализ моделей на:\n",
    "- качество предсказания;\n",
    "- время обучения модели;\n",
    "- время предсказания модели."
   ]
  },
  {
   "cell_type": "markdown",
   "metadata": {},
   "source": [
    "Сведем полученные в ходе обучения и кросвалидации моделей данные в таблицу"
   ]
  },
  {
   "cell_type": "code",
   "execution_count": 29,
   "metadata": {},
   "outputs": [
    {
     "data": {
      "text/html": [
       "<div>\n",
       "<style scoped>\n",
       "    .dataframe tbody tr th:only-of-type {\n",
       "        vertical-align: middle;\n",
       "    }\n",
       "\n",
       "    .dataframe tbody tr th {\n",
       "        vertical-align: top;\n",
       "    }\n",
       "\n",
       "    .dataframe thead th {\n",
       "        text-align: right;\n",
       "    }\n",
       "</style>\n",
       "<table border=\"1\" class=\"dataframe\">\n",
       "  <thead>\n",
       "    <tr style=\"text-align: right;\">\n",
       "      <th></th>\n",
       "      <th>Модель</th>\n",
       "      <th>Качество предсказания (RMSE)</th>\n",
       "      <th>Время обучения модели, сек.</th>\n",
       "      <th>Время предсказания модели, сек</th>\n",
       "    </tr>\n",
       "  </thead>\n",
       "  <tbody>\n",
       "    <tr>\n",
       "      <th>0</th>\n",
       "      <td>RandomForest</td>\n",
       "      <td>1329.224090</td>\n",
       "      <td>55.981020</td>\n",
       "      <td>5.432731</td>\n",
       "    </tr>\n",
       "    <tr>\n",
       "      <th>1</th>\n",
       "      <td>LightGBM</td>\n",
       "      <td>1287.548695</td>\n",
       "      <td>5.706747</td>\n",
       "      <td>4.333320</td>\n",
       "    </tr>\n",
       "    <tr>\n",
       "      <th>2</th>\n",
       "      <td>CatBoost</td>\n",
       "      <td>1277.551066</td>\n",
       "      <td>95.597500</td>\n",
       "      <td>0.165333</td>\n",
       "    </tr>\n",
       "  </tbody>\n",
       "</table>\n",
       "</div>"
      ],
      "text/plain": [
       "         Модель  Качество предсказания (RMSE)  Время обучения модели, сек.  \\\n",
       "0  RandomForest                   1329.224090                    55.981020   \n",
       "1      LightGBM                   1287.548695                     5.706747   \n",
       "2      CatBoost                   1277.551066                    95.597500   \n",
       "\n",
       "   Время предсказания модели, сек  \n",
       "0                        5.432731  \n",
       "1                        4.333320  \n",
       "2                        0.165333  "
      ]
     },
     "execution_count": 29,
     "metadata": {},
     "output_type": "execute_result"
    }
   ],
   "source": [
    "model_analytics = pd.DataFrame([cv_rfr_results, cv_lgb_results, cv_cb_results], \n",
    "                        columns =['Модель', 'Качество предсказания (RMSE)', \n",
    "                                  'Время обучения модели, сек.', \n",
    "                                  'Время предсказания модели, сек'])\n",
    "model_analytics"
   ]
  },
  {
   "cell_type": "markdown",
   "metadata": {},
   "source": [
    "Исследование проводилось для трех моделей: `RandomForestRegressor`, `LGBMRegressor`, `CatBoostRegressor`.  \n",
    "В результате при помощи `GridSearchCV` были подобраны оптимальные параметры, проведено обучение моделей а так же проанализирована скорость работы и качество моделей.  \n",
    "Все модели удовлетворяют заданному условию - Значение метрики RMSE меньше 2500, однако `LGBMRegressor` явлеется безусловным лидером по времени обучения (хотя и проигывает CatBoostRegressor по  предсказаниям), при довольно высоком качестве модели.\n",
    "\n",
    "Опираясь на требования заказчика, для дальнейшей работы рекомендуем применять модель на основе `LGBMRegressor`."
   ]
  },
  {
   "cell_type": "markdown",
   "metadata": {},
   "source": [
    "## Тестирование лучшей модели"
   ]
  },
  {
   "cell_type": "markdown",
   "metadata": {},
   "source": [
    "Проведем финальное тестирование модели"
   ]
  },
  {
   "cell_type": "code",
   "execution_count": 30,
   "metadata": {},
   "outputs": [
    {
     "name": "stdout",
     "output_type": "stream",
     "text": [
      "Модель: LightGBM \n",
      "Качество предсказания (RMSE): 1276.52472 \n",
      "Время обучения модели: 2.973996877670288  сек. \n",
      "Время предсказания модели: 0.8306150436401367  сек.\n"
     ]
    }
   ],
   "source": [
    "model_lgb = LGBMRegressor(**cv_lgb_best_params)\n",
    "model = model_analysis(features_train, target_train, features_test, target_test, model_lgb, 'LightGBM')\n",
    "\n",
    "print('Модель:', model[0], \n",
    "     '\\nКачество предсказания (RMSE):', model[1],\n",
    "     '\\nВремя обучения модели:', model[2], ' сек.',\n",
    "     '\\nВремя предсказания модели:', model[3], ' сек.',\n",
    "     )"
   ]
  },
  {
   "cell_type": "markdown",
   "metadata": {},
   "source": [
    "Полученная модель полностью соответствует требованиям заказчика. Цель достигнута"
   ]
  }
 ],
 "metadata": {
  "kernelspec": {
   "display_name": "Python 3 (ipykernel)",
   "language": "python",
   "name": "python3"
  },
  "language_info": {
   "codemirror_mode": {
    "name": "ipython",
    "version": 3
   },
   "file_extension": ".py",
   "mimetype": "text/x-python",
   "name": "python",
   "nbconvert_exporter": "python",
   "pygments_lexer": "ipython3",
   "version": "3.9.16"
  },
  "toc": {
   "base_numbering": 1,
   "nav_menu": {},
   "number_sections": true,
   "sideBar": true,
   "skip_h1_title": true,
   "title_cell": "Table of Contents",
   "title_sidebar": "Contents",
   "toc_cell": false,
   "toc_position": {},
   "toc_section_display": true,
   "toc_window_display": false
  }
 },
 "nbformat": 4,
 "nbformat_minor": 4
}
